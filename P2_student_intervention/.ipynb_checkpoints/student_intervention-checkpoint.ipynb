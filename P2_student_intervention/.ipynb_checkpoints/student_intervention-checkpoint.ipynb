{
 "cells": [
  {
   "cell_type": "markdown",
   "metadata": {},
   "source": [
    "# Machine Learning Engineer Nanodegree\n",
    "## Supervised Learning\n",
    "## Project 2: Building a Student Intervention System"
   ]
  },
  {
   "cell_type": "markdown",
   "metadata": {},
   "source": [
    "Welcome to the second project of the Machine Learning Engineer Nanodegree! In this notebook, some template code has already been provided for you, and it will be your job to implement the additional functionality necessary to successfully complete this project. Sections that begin with **'Implementation'** in the header indicate that the following block of code will require additional functionality which you must provide. Instructions will be provided for each section and the specifics of the implementation are marked in the code block with a `'TODO'` statement. Please be sure to read the instructions carefully!\n",
    "\n",
    "In addition to implementing code, there will be questions that you must answer which relate to the project and your implementation. Each section where you will answer a question is preceded by a **'Question X'** header. Carefully read each question and provide thorough answers in the following text boxes that begin with **'Answer:'**. Your project submission will be evaluated based on your answers to each of the questions and the implementation you provide.  \n",
    "\n",
    ">**Note:** Code and Markdown cells can be executed using the **Shift + Enter** keyboard shortcut. In addition, Markdown cells can be edited by typically double-clicking the cell to enter edit mode."
   ]
  },
  {
   "cell_type": "markdown",
   "metadata": {},
   "source": [
    "### Question 1 - Classification vs. Regression\n",
    "*Your goal for this project is to identify students who might need early intervention before they fail to graduate. Which type of supervised learning problem is this, classification or regression? Why?*"
   ]
  },
  {
   "cell_type": "markdown",
   "metadata": {},
   "source": [
    "**Answer: ** It is a **classification** problem, since the output we are trying to predict has a discrete value, this is, whether the student does o does not need an intervention. \n",
    "\n",
    "If the variable to predict were continuous, a more suitable choice would have been a regression classifier."
   ]
  },
  {
   "cell_type": "markdown",
   "metadata": {},
   "source": [
    "## Exploring the Data\n",
    "Run the code cell below to load necessary Python libraries and load the student data. Note that the last column from this dataset, `'passed'`, will be our target label (whether the student graduated or didn't graduate). All other columns are features about each student."
   ]
  },
  {
   "cell_type": "code",
   "execution_count": 1,
   "metadata": {
    "collapsed": false
   },
   "outputs": [
    {
     "name": "stdout",
     "output_type": "stream",
     "text": [
      "Student data read successfully!\n"
     ]
    }
   ],
   "source": [
    "# Import libraries\n",
    "import numpy as np\n",
    "import pandas as pd\n",
    "from time import time\n",
    "from sklearn.metrics import f1_score\n",
    "\n",
    "\n",
    "# Read student data\n",
    "student_data = pd.read_csv(\"student-data.csv\")\n",
    "print \"Student data read successfully!\""
   ]
  },
  {
   "cell_type": "markdown",
   "metadata": {},
   "source": [
    "### Implementation: Data Exploration\n",
    "Let's begin by investigating the dataset to determine how many students we have information on, and learn about the graduation rate among these students. In the code cell below, you will need to compute the following:\n",
    "- The total number of students, `n_students`.\n",
    "- The total number of features for each student, `n_features`.\n",
    "- The number of those students who passed, `n_passed`.\n",
    "- The number of those students who failed, `n_failed`.\n",
    "- The graduation rate of the class, `grad_rate`, in percent (%).\n"
   ]
  },
  {
   "cell_type": "code",
   "execution_count": 2,
   "metadata": {
    "collapsed": false
   },
   "outputs": [
    {
     "name": "stdout",
     "output_type": "stream",
     "text": [
      "Total number of students: 395\n",
      "Number of features: 30\n",
      "Number of students who passed: 265\n",
      "Number of students who failed: 130\n",
      "Graduation rate of the class: 67.09%\n"
     ]
    }
   ],
   "source": [
    "# TODO: Calculate number of students\n",
    "n_students = student_data.shape[0]\n",
    "\n",
    "# TODO: Calculate number of features\n",
    "n_features = student_data.shape[1]-1 #substracted the target column\n",
    "\n",
    "# TODO: Calculate passing students\n",
    "n_passed = student_data[student_data[\"passed\"]=='yes'].shape[0]\n",
    "\n",
    "# TODO: Calculate failing students\n",
    "n_failed = student_data[student_data[\"passed\"]=='no'].shape[0]\n",
    "\n",
    "# TODO: Calculate graduation rate\n",
    "grad_rate = 100.* float(n_passed)/float(n_students)\n",
    "\n",
    "# Print the results\n",
    "print \"Total number of students: {}\".format(n_students)\n",
    "print \"Number of features: {}\".format(n_features)\n",
    "print \"Number of students who passed: {}\".format(n_passed)\n",
    "print \"Number of students who failed: {}\".format(n_failed)\n",
    "print \"Graduation rate of the class: {:.2f}%\".format(grad_rate)"
   ]
  },
  {
   "cell_type": "code",
   "execution_count": 3,
   "metadata": {
    "collapsed": false
   },
   "outputs": [
    {
     "name": "stdout",
     "output_type": "stream",
     "text": [
      "  school sex  age address famsize Pstatus  Medu  Fedu     Mjob      Fjob  \\\n",
      "0     GP   F   18       U     GT3       A     4     4  at_home   teacher   \n",
      "1     GP   F   17       U     GT3       T     1     1  at_home     other   \n",
      "2     GP   F   15       U     LE3       T     1     1  at_home     other   \n",
      "3     GP   F   15       U     GT3       T     4     2   health  services   \n",
      "4     GP   F   16       U     GT3       T     3     3    other     other   \n",
      "\n",
      "   ...   internet romantic  famrel  freetime  goout Dalc Walc health absences  \\\n",
      "0  ...         no       no       4         3      4    1    1      3        6   \n",
      "1  ...        yes       no       5         3      3    1    1      3        4   \n",
      "2  ...        yes       no       4         3      2    2    3      3       10   \n",
      "3  ...        yes      yes       3         2      2    1    1      5        2   \n",
      "4  ...         no       no       4         3      2    1    2      5        4   \n",
      "\n",
      "  passed  \n",
      "0     no  \n",
      "1     no  \n",
      "2    yes  \n",
      "3    yes  \n",
      "4    yes  \n",
      "\n",
      "[5 rows x 31 columns]\n",
      "265\n"
     ]
    }
   ],
   "source": [
    "print student_data.head()\n",
    "\n",
    "print student_data[student_data[\"passed\"]=='yes'].shape[0]"
   ]
  },
  {
   "cell_type": "markdown",
   "metadata": {},
   "source": [
    "## Preparing the Data\n",
    "In this section, we will prepare the data for modeling, training and testing.\n",
    "\n",
    "### Identify feature and target columns\n",
    "It is often the case that the data you obtain contains non-numeric features. This can be a problem, as most machine learning algorithms expect numeric data to perform computations with.\n",
    "\n",
    "Run the code cell below to separate the student data into feature and target columns to see if any features are non-numeric."
   ]
  },
  {
   "cell_type": "code",
   "execution_count": 4,
   "metadata": {
    "collapsed": false
   },
   "outputs": [
    {
     "name": "stdout",
     "output_type": "stream",
     "text": [
      "Feature columns:\n",
      "['school', 'sex', 'age', 'address', 'famsize', 'Pstatus', 'Medu', 'Fedu', 'Mjob', 'Fjob', 'reason', 'guardian', 'traveltime', 'studytime', 'failures', 'schoolsup', 'famsup', 'paid', 'activities', 'nursery', 'higher', 'internet', 'romantic', 'famrel', 'freetime', 'goout', 'Dalc', 'Walc', 'health', 'absences']\n",
      "\n",
      "Target column: passed\n",
      "\n",
      "Feature values:\n",
      "  school sex  age address famsize Pstatus  Medu  Fedu     Mjob      Fjob  \\\n",
      "0     GP   F   18       U     GT3       A     4     4  at_home   teacher   \n",
      "1     GP   F   17       U     GT3       T     1     1  at_home     other   \n",
      "2     GP   F   15       U     LE3       T     1     1  at_home     other   \n",
      "3     GP   F   15       U     GT3       T     4     2   health  services   \n",
      "4     GP   F   16       U     GT3       T     3     3    other     other   \n",
      "\n",
      "    ...    higher internet  romantic  famrel  freetime goout Dalc Walc health  \\\n",
      "0   ...       yes       no        no       4         3     4    1    1      3   \n",
      "1   ...       yes      yes        no       5         3     3    1    1      3   \n",
      "2   ...       yes      yes        no       4         3     2    2    3      3   \n",
      "3   ...       yes      yes       yes       3         2     2    1    1      5   \n",
      "4   ...       yes       no        no       4         3     2    1    2      5   \n",
      "\n",
      "  absences  \n",
      "0        6  \n",
      "1        4  \n",
      "2       10  \n",
      "3        2  \n",
      "4        4  \n",
      "\n",
      "[5 rows x 30 columns]\n"
     ]
    }
   ],
   "source": [
    "# Extract feature columns\n",
    "feature_cols = list(student_data.columns[:-1])\n",
    "\n",
    "# Extract target column 'passed'\n",
    "target_col = student_data.columns[-1] \n",
    "\n",
    "# Show the list of columns\n",
    "print \"Feature columns:\\n{}\".format(feature_cols)\n",
    "print \"\\nTarget column: {}\".format(target_col)\n",
    "\n",
    "# Separate the data into feature data and target data (X_all and y_all, respectively)\n",
    "X_all = student_data[feature_cols]\n",
    "y_all = student_data[target_col]\n",
    "\n",
    "# Show the feature information by printing the first five rows\n",
    "print \"\\nFeature values:\"\n",
    "print X_all.head()"
   ]
  },
  {
   "cell_type": "markdown",
   "metadata": {},
   "source": [
    "### Preprocess Feature Columns\n",
    "\n",
    "As you can see, there are several non-numeric columns that need to be converted! Many of them are simply `yes`/`no`, e.g. `internet`. These can be reasonably converted into `1`/`0` (binary) values.\n",
    "\n",
    "Other columns, like `Mjob` and `Fjob`, have more than two values, and are known as _categorical variables_. The recommended way to handle such a column is to create as many columns as possible values (e.g. `Fjob_teacher`, `Fjob_other`, `Fjob_services`, etc.), and assign a `1` to one of them and `0` to all others.\n",
    "\n",
    "These generated columns are sometimes called _dummy variables_, and we will use the [`pandas.get_dummies()`](http://pandas.pydata.org/pandas-docs/stable/generated/pandas.get_dummies.html?highlight=get_dummies#pandas.get_dummies) function to perform this transformation. Run the code cell below to perform the preprocessing routine discussed in this section."
   ]
  },
  {
   "cell_type": "code",
   "execution_count": 5,
   "metadata": {
    "collapsed": false
   },
   "outputs": [
    {
     "name": "stdout",
     "output_type": "stream",
     "text": [
      "Processed feature columns (48 total features):\n",
      "['school_GP', 'school_MS', 'sex_F', 'sex_M', 'age', 'address_R', 'address_U', 'famsize_GT3', 'famsize_LE3', 'Pstatus_A', 'Pstatus_T', 'Medu', 'Fedu', 'Mjob_at_home', 'Mjob_health', 'Mjob_other', 'Mjob_services', 'Mjob_teacher', 'Fjob_at_home', 'Fjob_health', 'Fjob_other', 'Fjob_services', 'Fjob_teacher', 'reason_course', 'reason_home', 'reason_other', 'reason_reputation', 'guardian_father', 'guardian_mother', 'guardian_other', 'traveltime', 'studytime', 'failures', 'schoolsup', 'famsup', 'paid', 'activities', 'nursery', 'higher', 'internet', 'romantic', 'famrel', 'freetime', 'goout', 'Dalc', 'Walc', 'health', 'absences']\n"
     ]
    }
   ],
   "source": [
    "def preprocess_features(X):\n",
    "    ''' Preprocesses the student data and converts non-numeric binary variables into\n",
    "        binary (0/1) variables. Converts categorical variables into dummy variables. '''\n",
    "    \n",
    "    # Initialize new output DataFrame\n",
    "    output = pd.DataFrame(index = X.index)\n",
    "\n",
    "    # Investigate each feature column for the data\n",
    "    for col, col_data in X.iteritems():\n",
    "        \n",
    "        # If data type is non-numeric, replace all yes/no values with 1/0\n",
    "        if col_data.dtype == object:\n",
    "            col_data = col_data.replace(['yes', 'no'], [1, 0])\n",
    "\n",
    "        # If data type is categorical, convert to dummy variables\n",
    "        if col_data.dtype == object:\n",
    "            # Example: 'school' => 'school_GP' and 'school_MS'\n",
    "            col_data = pd.get_dummies(col_data, prefix = col)  \n",
    "        \n",
    "        # Collect the revised columns\n",
    "        output = output.join(col_data)\n",
    "    \n",
    "    return output\n",
    "\n",
    "X_all = preprocess_features(X_all)\n",
    "print \"Processed feature columns ({} total features):\\n{}\".format(len(X_all.columns), list(X_all.columns))"
   ]
  },
  {
   "cell_type": "markdown",
   "metadata": {},
   "source": [
    "### Implementation: Training and Testing Data Split\n",
    "So far, we have converted all _categorical_ features into numeric values. For the next step, we split the data (both features and corresponding labels) into training and test sets. In the following code cell below, you will need to implement the following:\n",
    "- Randomly shuffle and split the data (`X_all`, `y_all`) into training and testing subsets.\n",
    "  - Use 300 training points (approximately 75%) and 95 testing points (approximately 25%).\n",
    "  - Set a `random_state` for the function(s) you use, if provided.\n",
    "  - Store the results in `X_train`, `X_test`, `y_train`, and `y_test`."
   ]
  },
  {
   "cell_type": "code",
   "execution_count": 6,
   "metadata": {
    "collapsed": false
   },
   "outputs": [
    {
     "name": "stdout",
     "output_type": "stream",
     "text": [
      "Training set has 300 samples.\n",
      "Testing set has 95 samples.\n"
     ]
    }
   ],
   "source": [
    "# TODO: Import any additional functionality you may need here\n",
    "from sklearn import cross_validation\n",
    "\n",
    "# TODO: Set the number of training points\n",
    "num_train = 300\n",
    "\n",
    "# Set the number of testing points\n",
    "num_test = X_all.shape[0] - num_train\n",
    "\n",
    "# TODO: Shuffle and split the dataset into the number of training and testing points above\n",
    "X_train = None\n",
    "X_test = None\n",
    "y_train = None\n",
    "y_test = None\n",
    "X_train, X_test, y_train, y_test = cross_validation.train_test_split( X_all, y_all, test_size=float(num_test)/float(X_all.shape[0]), random_state=42)\n",
    "\n",
    "\n",
    "# Show the results of the split\n",
    "print \"Training set has {} samples.\".format(X_train.shape[0])\n",
    "print \"Testing set has {} samples.\".format(X_test.shape[0])"
   ]
  },
  {
   "cell_type": "markdown",
   "metadata": {},
   "source": [
    "## Training and Evaluating Models\n",
    "In this section, you will choose 3 supervised learning models that are appropriate for this problem and available in `scikit-learn`. You will first discuss the reasoning behind choosing these three models by considering what you know about the data and each model's strengths and weaknesses. You will then fit the model to varying sizes of training data (100 data points, 200 data points, and 300 data points) and measure the F<sub>1</sub> score. You will need to produce three tables (one for each model) that shows the training set size, training time, prediction time, F<sub>1</sub> score on the training set, and F<sub>1</sub> score on the testing set."
   ]
  },
  {
   "cell_type": "markdown",
   "metadata": {},
   "source": [
    "### Question 2 - Model Application\n",
    "*List three supervised learning models that are appropriate for this problem. What are the general applications of each model? What are their strengths and weaknesses? Given what you know about the data, why did you choose these models to be applied?*"
   ]
  },
  {
   "cell_type": "markdown",
   "metadata": {},
   "source": [
    "**Answer: **\n",
    "I picked three different algorithms with a very different nature: one is very easy to understand and makes classifications based on questions (DTs), another acts like a switch, given a result once certain conditions are fulfilled (logistic regression) and the last one it is a powerful tool that can separate classes of data, extending the understandable 2D separation problem to up to n-features considered.\n",
    "\n",
    "- Decision trees\n",
    "\n",
    "    -*Why I elected it*: \n",
    "    DTs can be used in classification and regression problems.\n",
    "    The dataset is a mixture of numerical and categorical data and DTs are appropiate for this (see strengths).\n",
    "    \n",
    "    DT is one of the simplest algorithms for classification and I thought it would be reasonable to compare the behavior of other algorithms to its. It can give an insight of the problem and can provide good results with little effort. \n",
    "   \n",
    "    - Applications:\n",
    "        - they create a model to predict a target variable or label by simple decision rules inferred from the data features.\n",
    "        - **real world application:** determine whether a patient may have or have not some illness, i.e. breast cancer. Features can as gender are determinant to delimit the problem. Another features can be age and size of tumor.\n",
    "    - Strengths\n",
    "        - they are indicated for classfication problems (also for regression)\n",
    "        - they can handle numerical and catergorical data\n",
    "        - they are simple to understand and interpret and they can be plotted.\n",
    "        - they are robust\n",
    "    - Weaknesses\n",
    "        - they are prone to overfitting by giving highly complex trees.\n",
    "        - they can be unsable and vulnerable to small changes in the data which may lead to a completely different tree.\n",
    "        - they can create biased trees if there are dominant classes.\n",
    "http://scikit-learn.org/stable/modules/tree.html\n",
    "- Logistic regression\n",
    "\n",
    "    -*Why I elected it*: \n",
    "    Linear regressions (logistic regression belongs to that family) are appropiate for linearly related data (I do no not expect to exist any other kind o relationship between the students features) and are very fast.\n",
    "    \n",
    "    One think I like about logistic regression is how it is capable of classifying binary problems. I used to think of it as a threshold but implemented with a really good function which will allow use to much more, as implementing gradient descent. And plus, it is roughly a preceptron! It can be trained with different classes and give binary output (our target is *Passed*: yes/no) given the result activates or not the threshold.\n",
    "    \n",
    "    - Applications:\n",
    "        - is a special case of linear model, analogous to linear regression. The difference with linear regression is:\n",
    "            - as the dependent variable is binary, the conditional distribution $y|x$ is a Brenouilli distribution, not a Gaussian distribution\n",
    "            - the predicted values are probabilities, limited to (0,1) through the logistic distribution function\n",
    "        - **real world application:**probability of passing an exam vs hours of study. Also the breast cancer example, with age / size of tumor for women.\n",
    "    - Strengths\n",
    "        - simple, express dependency of the output variable with the features\n",
    "    - Weaknesses\n",
    "        - assumes output variable is dependent of all the independent variables, althought it may not be true \n",
    "        - linear regressions do not perform well for high number of features (we have around 300 students and 30 features, thats a 10:1 (student:feature) relation, which is very high).    https://en.wikipedia.org/wiki/Logistic_regression\n",
    "    http://scikit-learn.org/stable/modules/linear_model.html\n",
    "    http://www.stat.berkeley.edu/~s133/Lr-a.html\n",
    "- Support Vector Machines \n",
    "\n",
    "    -*Why I elected it*: \n",
    "    SVMs are appropiate when the number of features is high. \n",
    "    \n",
    "    What I really liked about SVM is how it is capable of finding boundaries between data even up to n-dimensions! The 2D explanation is very intuitive and we can see how different groups are separated by a gap. SVM takes it further and increase the combination of features taken into account in the decission. And, an amazing thing, is how space transformation (that thing we studied in vertorial calculus and complex maths) can be of good use to have an easily linearly separated problem.\n",
    "    \n",
    "    - Applications:\n",
    "        - they create a model to predict a if the sample belongs to one of the output target variable.\n",
    "        - they map the samples as points in the space separated by a plane with a large gap dividing the two classes.\n",
    "        - used for classification, regression and outliers detection\n",
    "        - **real world application:** data must be mapped with a clear gap as wide as possible. One example is facial recognition, where facial components are extrancted en combined into a single feature vector to be calssified. Previous examples are possible, since for the breast cancer  it is possible that if we plot age vs size of tumor for women, there will be a gap between young and older people and maybe younger are prone to be diagnosed benigne. \n",
    "    - Strengths\n",
    "        - effective in high dimensional spaces (lots of features),\n",
    "        - kernel trick: transformation of the space data can be separated. Versatile: custom kernels\n",
    "        - effective even in cases where the number of dimensions is greater than the number of samples.\n",
    "        - memory efficient: it uses subset of datapoints to find the decision boundary\n",
    "    - Weaknesses\n",
    "        - poor performances if number of features is much greater than the number of samples\n",
    "        - do not provide direct probability estimations. They must be calculated with cross-validation.\n",
    "        - not useful when data is not labeled. Unsupervised techniques are required.\n",
    "        \n",
    "https://en.wikipedia.org/wiki/Support_vector_machine\n",
    "http://scikit-learn.org/stable/modules/svm.html\n",
    "http://cbcl.mit.edu/cbcl/publications/ps/iccv2001.pdf\n",
    "\n",
    "http://www.edvancer.in/logistic-regression-vs-decision-trees-vs-svm-part2/\n"
   ]
  },
  {
   "cell_type": "markdown",
   "metadata": {},
   "source": [
    "### Setup\n",
    "Run the code cell below to initialize three helper functions which you can use for training and testing the three supervised learning models you've chosen above. The functions are as follows:\n",
    "- `train_classifier` - takes as input a classifier and training data and fits the classifier to the data.\n",
    "- `predict_labels` - takes as input a fit classifier, features, and a target labeling and makes predictions using the F<sub>1</sub> score.\n",
    "- `train_predict` - takes as input a classifier, and the training and testing data, and performs `train_clasifier` and `predict_labels`.\n",
    " - This function will report the F<sub>1</sub> score for both the training and testing data separately."
   ]
  },
  {
   "cell_type": "code",
   "execution_count": 24,
   "metadata": {
    "collapsed": false
   },
   "outputs": [],
   "source": [
    "def train_classifier(clf, X_train, y_train):\n",
    "    ''' Fits a classifier to the training data. '''\n",
    "    \n",
    "    # Start the clock, train the classifier, then stop the clock\n",
    "    start = time()\n",
    "    clf.fit(X_train, y_train)\n",
    "    end = time()\n",
    "    \n",
    "    # Print the results\n",
    "    print \"Trained model in {:.4f} seconds\".format(end - start)\n",
    "\n",
    "    \n",
    "def predict_labels(clf, features, target):\n",
    "    ''' Makes predictions using a fit classifier based on F1 score. '''\n",
    "    \n",
    "    # Start the clock, make predictions, then stop the clock\n",
    "    start = time()\n",
    "    y_pred = clf.predict(features)\n",
    "    end = time()\n",
    "    \n",
    "    # Print and return results\n",
    "    print \"Made predictions in {:.4f} seconds.\".format(end - start)\n",
    "    return f1_score(target.values, y_pred, pos_label='yes')\n",
    "\n",
    "\n",
    "def train_predict(clf, X_train, y_train, X_test, y_test):\n",
    "    ''' Train and predict using a classifer based on F1 score. '''\n",
    "    \n",
    "    # Indicate the classifier and the training set size\n",
    "    print \"Training a {} using a training set size of {}. . .\".format(clf.__class__.__name__, len(X_train))\n",
    "    \n",
    "    # Train the classifier\n",
    "    train_classifier(clf, X_train, y_train)\n",
    "    \n",
    "    # Print the results of prediction for both training and testing\n",
    "    print \"F1 score for training set: {:.4f}.\".format(predict_labels(clf, X_train, y_train))\n",
    "    print \"F1 score for test set: {:.4f}.\".format(predict_labels(clf, X_test, y_test))"
   ]
  },
  {
   "cell_type": "markdown",
   "metadata": {},
   "source": [
    "### Implementation: Model Performance Metrics\n",
    "With the predefined functions above, you will now import the three supervised learning models of your choice and run the `train_predict` function for each one. Remember that you will need to train and predict on each classifier for three different training set sizes: 100, 200, and 300. Hence, you should expect to have 9 different outputs below — 3 for each model using the varying training set sizes. In the following code cell, you will need to implement the following:\n",
    "- Import the three supervised learning models you've discussed in the previous section.\n",
    "- Initialize the three models and store them in `clf_A`, `clf_B`, and `clf_C`.\n",
    " - Use a `random_state` for each model you use, if provided.\n",
    " - **Note:** Use the default settings for each model — you will tune one specific model in a later section.\n",
    "- Create the different training set sizes to be used to train each model.\n",
    " - *Do not reshuffle and resplit the data! The new training points should be drawn from `X_train` and `y_train`.*\n",
    "- Fit each model with each training set size and make predictions on the test set (9 in total).  \n",
    "**Note:** Three tables are provided after the following code cell which can be used to store your results."
   ]
  },
  {
   "cell_type": "code",
   "execution_count": 25,
   "metadata": {
    "collapsed": false,
    "scrolled": true
   },
   "outputs": [
    {
     "name": "stdout",
     "output_type": "stream",
     "text": [
      "Classifier 1 ...\n",
      "Training a DecisionTreeClassifier using a training set size of 100. . .\n",
      "Trained model in 0.0024 seconds\n",
      "Made predictions in 0.0004 seconds.\n",
      "F1 score for training set: 1.0000.\n",
      "Made predictions in 0.0002 seconds.\n",
      "F1 score for test set: 0.6435.\n",
      "Training a DecisionTreeClassifier using a training set size of 200. . .\n",
      "Trained model in 0.0022 seconds\n",
      "Made predictions in 0.0002 seconds.\n",
      "F1 score for training set: 1.0000.\n",
      "Made predictions in 0.0002 seconds.\n",
      "F1 score for test set: 0.7538.\n",
      "Training a DecisionTreeClassifier using a training set size of 300. . .\n",
      "Trained model in 0.0027 seconds\n",
      "Made predictions in 0.0003 seconds.\n",
      "F1 score for training set: 1.0000.\n",
      "Made predictions in 0.0002 seconds.\n",
      "F1 score for test set: 0.6400.\n",
      "\n",
      "\n",
      "Classifier 2 ...\n",
      "Training a LogisticRegression using a training set size of 100. . .\n",
      "Trained model in 0.0017 seconds\n",
      "Made predictions in 0.0003 seconds.\n",
      "F1 score for training set: 0.8593.\n",
      "Made predictions in 0.0002 seconds.\n",
      "F1 score for test set: 0.7647.\n",
      "Training a LogisticRegression using a training set size of 200. . .\n",
      "Trained model in 0.0032 seconds\n",
      "Made predictions in 0.0003 seconds.\n",
      "F1 score for training set: 0.8562.\n",
      "Made predictions in 0.0003 seconds.\n",
      "F1 score for test set: 0.7914.\n",
      "Training a LogisticRegression using a training set size of 300. . .\n",
      "Trained model in 0.0064 seconds\n",
      "Made predictions in 0.0005 seconds.\n",
      "F1 score for training set: 0.8468.\n",
      "Made predictions in 0.0003 seconds.\n",
      "F1 score for test set: 0.8060.\n",
      "\n",
      "\n",
      "Classifier 3 ...\n",
      "Training a SVC using a training set size of 100. . .\n",
      "Trained model in 0.0025 seconds\n",
      "Made predictions in 0.0016 seconds.\n",
      "F1 score for training set: 0.8777.\n",
      "Made predictions in 0.0016 seconds.\n",
      "F1 score for test set: 0.7746.\n",
      "Training a SVC using a training set size of 200. . .\n",
      "Trained model in 0.0067 seconds\n",
      "Made predictions in 0.0049 seconds.\n",
      "F1 score for training set: 0.8679.\n",
      "Made predictions in 0.0026 seconds.\n",
      "F1 score for test set: 0.7815.\n",
      "Training a SVC using a training set size of 300. . .\n",
      "Trained model in 0.0142 seconds\n",
      "Made predictions in 0.0106 seconds.\n",
      "F1 score for training set: 0.8761.\n",
      "Made predictions in 0.0036 seconds.\n",
      "F1 score for test set: 0.7838.\n",
      "\n",
      "\n"
     ]
    }
   ],
   "source": [
    "# TODO: Import the three supervised learning models from sklearn\n",
    "# from sklearn import model_A\n",
    "from sklearn import tree\n",
    "# from sklearn import model_B\n",
    "from sklearn.linear_model import LogisticRegression\n",
    "# from skearln import model_C\n",
    "from sklearn import svm\n",
    "\n",
    "\n",
    "# TODO: Initialize the three models\n",
    "clf_A = tree.DecisionTreeClassifier(random_state = 1)\n",
    "clf_B = LogisticRegression(random_state = 3)\n",
    "clf_C = svm.SVC(random_state = 5)\n",
    "\n",
    "list_of_clf=[clf_A, clf_B, clf_C]\n",
    "\n",
    "# TODO: Set up the training set sizes\n",
    "X_train_100 = X_train[0:100]\n",
    "y_train_100 = y_train[0:100]\n",
    "\n",
    "X_train_200 = X_train[0:200]\n",
    "y_train_200 = y_train[0:200]\n",
    "\n",
    "X_train_300 = X_train[0:300]\n",
    "y_train_300 = y_train[0:300]\n",
    "\n",
    "# TODO: Execute the 'train_predict' function for each classifier and each training set size\n",
    "# train_predict(clf, X_train, y_train, X_test, y_test)\n",
    "for i,clf in enumerate(list_of_clf):\n",
    "    print \"Classifier %d ...\" %(i+1)\n",
    "    train_predict(clf, X_train_100, y_train_100, X_test, y_test)\n",
    "    train_predict(clf, X_train_200, y_train_200, X_test, y_test)\n",
    "    train_predict(clf, X_train_300, y_train_300, X_test, y_test)\n",
    "    print \"\\n\""
   ]
  },
  {
   "cell_type": "markdown",
   "metadata": {},
   "source": [
    "### Tabular Results\n",
    "Edit the cell below to see how a table can be designed in [Markdown](https://github.com/adam-p/markdown-here/wiki/Markdown-Cheatsheet#tables). You can record your results from above in the tables provided."
   ]
  },
  {
   "cell_type": "markdown",
   "metadata": {},
   "source": [
    "** Classifer 1 - Decision Tree Classifier**  \n",
    "\n",
    "| Training Set Size | Training Time | Prediction Time (test) | F1 Score (train) | F1 Score (test) |\n",
    "| :---------------: | :---------------------: | :--------------------: | :--------------: | :-------------: |\n",
    "| 100               |             0.0009      |               0.0002         |        1.0          |   0.6154              |\n",
    "| 200               |        0.0012           |           0.0003             |           1.0       |   0.7419              |\n",
    "| 300               |             0.0032      |                 0.0002       |              1.0    |   0.6720     |\n",
    "\n",
    "** Classifer 2 - Logistic Regression**  \n",
    "\n",
    "| Training Set Size | Training Time | Prediction Time (test) | F1 Score (train) | F1 Score (test) |\n",
    "| :---------------: | :---------------------: | :--------------------: | :--------------: | :-------------: |\n",
    "| 100               |             0.0012      |               0.0002         |        0.8593         |   0.7647              |\n",
    "| 200               |        0.0021          |           0.0003             |           0.8562      |   0.7914              |\n",
    "| 300               |             0.0033      |                 0.0002       |              0.8468    |   0.8060     |\n",
    "\n",
    "\n",
    "** Classifer 3 - Suppor Vector Machines (SVM) **  \n",
    "\n",
    "| Training Set Size | Training Time | Prediction Time (test) | F1 Score (train) | F1 Score (test) |\n",
    "| :---------------: | :---------------------: | :--------------------: | :--------------: | :-------------: |\n",
    "| 100               |             0.0014      |               0.0010         |        0.8777          |   0.7746              |\n",
    "| 200               |        0.0030           |           0.0015             |           0.8679       |   0.7815              |\n",
    "| 300               |             0.0066      |                 0.0022       |              0.8761    |   0.7838    |\n"
   ]
  },
  {
   "cell_type": "markdown",
   "metadata": {},
   "source": [
    "## Choosing the Best Model\n",
    "In this final section, you will choose from the three supervised learning models the *best* model to use on the student data. You will then perform a grid search optimization for the model over the entire training set (`X_train` and `y_train`) by tuning at least one parameter to improve upon the untuned model's F<sub>1</sub> score. "
   ]
  },
  {
   "cell_type": "markdown",
   "metadata": {},
   "source": [
    "### Question 3 - Chosing the Best Model\n",
    "*Based on the experiments you performed earlier, in one to two paragraphs, explain to the board of supervisors what single model you chose as the best model. Which model is generally the most appropriate based on the available data, limited resources, cost, and performance?*"
   ]
  },
  {
   "cell_type": "markdown",
   "metadata": {},
   "source": [
    "**Answer: **\n",
    "Based in the previous experiments F1 score the ranking of algorithms will be: Logistic Regression, SVMs and Decision Trees.\n",
    "\n",
    "Based in the prediction time times for the biggest training dataset the ranking of algorithms will be: Logistic Regression, Decision Tree and SVMs.\n",
    "\n",
    "It is clear the best performance is given by Logistic Regression."
   ]
  },
  {
   "cell_type": "markdown",
   "metadata": {},
   "source": [
    "### Question 4 - Model in Layman's Terms\n",
    "*In one to two paragraphs, explain to the board of directors in layman's terms how the final model chosen is supposed to work. For example if you've chosen to use a decision tree or a support vector machine, how does the model go about making a prediction?*"
   ]
  },
  {
   "cell_type": "markdown",
   "metadata": {},
   "source": [
    "**Answer: **\n",
    "The model chosen is logistic regression. It belongs to the group of the linear models. \n",
    "The logistic regression is characterized by a set of input features (failures, absences, age, gender...) and a target feature (*passed* or *not passed*). The set of input features or variables are 30 in this case.\n",
    "\n",
    "In order to start the process, the data is splitted into training and testing subsets. The tranining subset is used so the model can learn based on the previous experience to give answers to future cases. The test subset is used for checking how good the model will be at predicting whether new students will or will not pass. It is a way of having the answers to check how good our model generalizes with data it does not know yet.\n",
    "\n",
    "The logistic regression is then trained with the training dataset and try to give a prediction based on the combination of the features that describe the data. The combination of features (or characteristic of the data) is weighted, so as to give more importance to certain features (i.e. failures and absences will be more important thant number of siblings in order to determine whether the student will pass or not).\n",
    "The objetive when training the model is to minimize the error between the predicted and the real value.  \n",
    "\n",
    "In the case of logistic regression this process uses an exponential function in which the linear combination is introduced.\n",
    "\n",
    "Once the model is trained, it is time to make predictions and determine whether totally unknown student passed or not given the experience accumulated by training the model with the already known students. The features of each new student will be weighted with the values founf in the training processes, combined and the introduced in the logistic function, which will tell if the student has more or less probabilities of passing given what it has learned from previous cases.\n",
    "\n",
    "http://scikit-learn.org/stable/modules/linear_model.html"
   ]
  },
  {
   "cell_type": "markdown",
   "metadata": {},
   "source": [
    "### Implementation: Model Tuning\n",
    "Fine tune the chosen model. Use grid search (`GridSearchCV`) with at least one important parameter tuned with at least 3 different values. You will need to use the entire training set for this. In the code cell below, you will need to implement the following:\n",
    "- Import [`sklearn.grid_search.gridSearchCV`](http://scikit-learn.org/stable/modules/generated/sklearn.grid_search.GridSearchCV.html) and [`sklearn.metrics.make_scorer`](http://scikit-learn.org/stable/modules/generated/sklearn.metrics.make_scorer.html).\n",
    "- Create a dictionary of parameters you wish to tune for the chosen model.\n",
    " - Example: `parameters = {'parameter' : [list of values]}`.\n",
    "- Initialize the classifier you've chosen and store it in `clf`.\n",
    "- Create the F<sub>1</sub> scoring function using `make_scorer` and store it in `f1_scorer`.\n",
    " - Set the `pos_label` parameter to the correct value!\n",
    "- Perform grid search on the classifier `clf` using `f1_scorer` as the scoring method, and store it in `grid_obj`.\n",
    "- Fit the grid search object to the training data (`X_train`, `y_train`), and store it in `grid_obj`."
   ]
  },
  {
   "cell_type": "code",
   "execution_count": 27,
   "metadata": {
    "collapsed": false
   },
   "outputs": [
    {
     "name": "stdout",
     "output_type": "stream",
     "text": [
      "make_scorer(f1_score, pos_label=yes)\n",
      "LogisticRegression(C=0.1, class_weight=None, dual=False, fit_intercept=True,\n",
      "          intercept_scaling=0.1, max_iter=25, multi_class='ovr', n_jobs=2,\n",
      "          penalty='l1', random_state=None, solver='liblinear', tol=0.0001,\n",
      "          verbose=0, warm_start=False)\n",
      "Made predictions in 0.0064 seconds.\n",
      "Tuned model has a training F1 score of 0.8323.\n",
      "Made predictions in 0.0003 seconds.\n",
      "Tuned model has a testing F1 score of 0.7891.\n"
     ]
    }
   ],
   "source": [
    "# TODO: Import 'GridSearchCV' and 'make_scorer'\n",
    "from sklearn.grid_search import GridSearchCV\n",
    "from sklearn.metrics import make_scorer, f1_score\n",
    "\n",
    "# TODO: Create the parameters list you wish to tune\n",
    "parameters = {'penalty': ['l1','l2'], 'C': [0.001, 0.01, 0.1, 1, 10, 100, 1000] ,  'max_iter': [10,25,50],  \n",
    "              'fit_intercept': [True, False] , 'intercept_scaling': [0.1, 1, 10, 100, 1000, 10000], 'n_jobs': [2] }\n",
    "\n",
    "# TODO: Initialize the classifier\n",
    "clf = LogisticRegression()\n",
    "\n",
    "# TODO: Make an f1 scoring function using 'make_scorer' \n",
    "f1_scorer = make_scorer(f1_score, pos_label = 'yes')\n",
    "print f1_scorer\n",
    "\n",
    "# TODO: Perform grid search on the classifier using the f1_scorer as the scoring method\n",
    "grid_obj = GridSearchCV(clf, param_grid= parameters, scoring = f1_scorer)\n",
    "\n",
    "# TODO: Fit the grid search object to the training data and find the optimal parameters\n",
    "grid_obj.fit(X_train, y_train)\n",
    "\n",
    "# Get the estimator\n",
    "clf = grid_obj.best_estimator_\n",
    "print clf\n",
    "\n",
    "# Report the final F1 score for training and testing after parameter tuning\n",
    "print \"Tuned model has a training F1 score of {:.4f}.\".format(predict_labels(clf, X_train, y_train))\n",
    "print \"Tuned model has a testing F1 score of {:.4f}.\".format(predict_labels(clf, X_test, y_test))"
   ]
  },
  {
   "cell_type": "markdown",
   "metadata": {},
   "source": [
    "### Question 5 - Final F<sub>1</sub> Score\n",
    "*What is the final model's F<sub>1</sub> score for training and testing? How does that score compare to the untuned model?*"
   ]
  },
  {
   "cell_type": "markdown",
   "metadata": {},
   "source": [
    "**Answer: ** \n",
    "\n",
    "The final's $F_1$ score for the **tuned model** for training is 0.8323 and for testing 0.7891, and for the **untuned model** the $F_1$ score for training is 0.8468 and for testing 0.8060.\n",
    "\n",
    "The $F_1$ score is worse for the tuned model, meaning we are able to generalize better. Additional parameters would be required to check the validity of the parameters chosen by gridsearch"
   ]
  },
  {
   "cell_type": "markdown",
   "metadata": {},
   "source": [
    "> **Note**: Once you have completed all of the code implementations and successfully answered each question above, you may finalize your work by exporting the iPython Notebook as an HTML document. You can do this by using the menu above and navigating to  \n",
    "**File -> Download as -> HTML (.html)**. Include the finished document along with this notebook as your submission."
   ]
  }
 ],
 "metadata": {
  "kernelspec": {
   "display_name": "Python 2",
   "language": "python",
   "name": "python2"
  },
  "language_info": {
   "codemirror_mode": {
    "name": "ipython",
    "version": 2
   },
   "file_extension": ".py",
   "mimetype": "text/x-python",
   "name": "python",
   "nbconvert_exporter": "python",
   "pygments_lexer": "ipython2",
   "version": "2.7.11+"
  },
  "widgets": {
   "state": {},
   "version": "1.1.2"
  }
 },
 "nbformat": 4,
 "nbformat_minor": 0
}
